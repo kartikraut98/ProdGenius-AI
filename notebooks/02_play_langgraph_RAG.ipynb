{
 "cells": [
  {
   "cell_type": "code",
   "execution_count": 1,
   "metadata": {},
   "outputs": [],
   "source": [
    "import os\n",
    "from operator import add\n",
    "from typing import Literal\n",
    "from typing import Annotated\n",
    "from pydantic import BaseModel\n",
    "from dotenv import load_dotenv\n",
    "from google.cloud import bigquery\n",
    "from langchain_groq import ChatGroq\n",
    "from langchain.schema import Document\n",
    "from typing_extensions import TypedDict\n",
    "from google.oauth2 import service_account\n",
    "from langchain_community.vectorstores import FAISS\n",
    "from langgraph.graph import END, StateGraph, START\n",
    "from langgraph.checkpoint.memory import MemorySaver\n",
    "from langchain_core.prompts import ChatPromptTemplate\n",
    "from langchain.document_loaders import DataFrameLoader\n",
    "from langchain_huggingface import HuggingFaceEmbeddings\n",
    "from langchain_openai import ChatOpenAI\n",
    "from langchain_core.output_parsers import StrOutputParser"
   ]
  },
  {
   "cell_type": "code",
   "execution_count": 2,
   "metadata": {},
   "outputs": [
    {
     "data": {
      "text/plain": [
       "'f:\\\\College\\\\Masters\\\\Semesters\\\\Fall 2024\\\\MLOps\\\\eCom-chat\\\\notebooks'"
      ]
     },
     "execution_count": 2,
     "metadata": {},
     "output_type": "execute_result"
    }
   ],
   "source": [
    "%pwd"
   ]
  },
  {
   "cell_type": "code",
   "execution_count": 3,
   "metadata": {},
   "outputs": [],
   "source": [
    "os.chdir('../')"
   ]
  },
  {
   "cell_type": "code",
   "execution_count": 4,
   "metadata": {},
   "outputs": [
    {
     "data": {
      "text/plain": [
       "True"
      ]
     },
     "execution_count": 4,
     "metadata": {},
     "output_type": "execute_result"
    }
   ],
   "source": [
    "load_dotenv()"
   ]
  },
  {
   "cell_type": "code",
   "execution_count": 5,
   "metadata": {},
   "outputs": [],
   "source": [
    "## load the API Keys\n",
    "os.environ['HF_TOKEN']=os.getenv(\"HF_TOKEN\")\n",
    "os.environ['OPENAI_API_KEY']=os.getenv(\"OPENAI_API_KEY\")\n",
    "os.environ['GROQ_API_KEY']=os.getenv(\"GROQ_API_KEY\")\n",
    "os.environ['LANGFUSE_PUBLIC_KEY']=os.getenv(\"LANGFUSE_PUBLIC_KEY\")\n",
    "os.environ['LANGFUSE_SECRET_KEY']=os.getenv(\"LANGFUSE_SECRET_KEY\")\n",
    "os.environ['LANGFUSE_HOST']=os.getenv(\"LANGFUSE_HOST\")"
   ]
  },
  {
   "cell_type": "code",
   "execution_count": 6,
   "metadata": {},
   "outputs": [],
   "source": [
    "from langfuse.callback import CallbackHandler\n",
    "\n",
    "langfuse_handler = CallbackHandler(\n",
    "    public_key=os.environ['LANGFUSE_PUBLIC_KEY'],\n",
    "    secret_key=os.environ['LANGFUSE_SECRET_KEY'],\n",
    "    host=os.environ['LANGFUSE_HOST']\n",
    ")"
   ]
  },
  {
   "cell_type": "code",
   "execution_count": 7,
   "metadata": {},
   "outputs": [],
   "source": [
    "REVIEW_TABLE = \"ecom-chat-437005.ecom_chat.review\"\n",
    "META_TABLE = \"ecom-chat-437005.ecom_chat.meta\"\n",
    "PARENT_ASIN = '0156031191'"
   ]
  },
  {
   "cell_type": "markdown",
   "metadata": {},
   "source": [
    "## Connect Big Query"
   ]
  },
  {
   "cell_type": "code",
   "execution_count": 11,
   "metadata": {},
   "outputs": [],
   "source": [
    "credentials = service_account.Credentials.from_service_account_file(\n",
    "    'src/big_credentials.json')\n",
    "client = bigquery.Client(credentials=credentials)"
   ]
  },
  {
   "cell_type": "code",
   "execution_count": 15,
   "metadata": {},
   "outputs": [],
   "source": [
    "# Perform a review query.\n",
    "review_query = (f'''SELECT *\n",
    "         FROM {REVIEW_TABLE} \n",
    "         WHERE parent_asin='0156031191'\n",
    "         ''')\n",
    "query_job = client.query(review_query)  # API request\n",
    "review = query_job.result()  # Waits for query to finish"
   ]
  },
  {
   "cell_type": "code",
   "execution_count": 16,
   "metadata": {},
   "outputs": [],
   "source": [
    "review_df = review.to_dataframe()"
   ]
  },
  {
   "cell_type": "code",
   "execution_count": 12,
   "metadata": {},
   "outputs": [],
   "source": [
    "# Perform a metadata query.\n",
    "meta_query = (f'''SELECT *\n",
    "         FROM {META_TABLE} \n",
    "         WHERE parent_asin='{PARENT_ASIN}'\n",
    "         ''')\n",
    "query_job = client.query(meta_query)  # API request\n",
    "meta = query_job.result()  # Waits for query to finish"
   ]
  },
  {
   "cell_type": "code",
   "execution_count": 13,
   "metadata": {},
   "outputs": [
    {
     "name": "stderr",
     "output_type": "stream",
     "text": [
      "f:\\College\\Masters\\Semesters\\Fall 2024\\MLOps\\eCom-chat\\verta\\Lib\\site-packages\\google\\cloud\\bigquery\\table.py:1727: UserWarning: BigQuery Storage module not found, fetch data with the REST endpoint instead.\n",
      "  warnings.warn(\n",
      "f:\\College\\Masters\\Semesters\\Fall 2024\\MLOps\\eCom-chat\\verta\\Lib\\site-packages\\google\\cloud\\bigquery\\_pandas_helpers.py:207: UserWarning: Unable to determine Arrow type for field 'images'.\n",
      "  warnings.warn(\n"
     ]
    }
   ],
   "source": [
    "meta_df = meta.to_dataframe()"
   ]
  },
  {
   "cell_type": "markdown",
   "metadata": {},
   "source": [
    "## Loading the Review Data"
   ]
  },
  {
   "cell_type": "code",
   "execution_count": 17,
   "metadata": {},
   "outputs": [],
   "source": [
    "review_df.drop(columns=['user_id', 'images'], inplace = True)\n",
    "meta_df.drop(columns=['images', 'videos', 'bought_together'], inplace = True)"
   ]
  },
  {
   "cell_type": "code",
   "execution_count": 18,
   "metadata": {},
   "outputs": [],
   "source": [
    "# Create a DataFrameLoader instance\n",
    "loader = DataFrameLoader(review_df) \n",
    "\n",
    "# Load the documents\n",
    "review_documents = loader.load()"
   ]
  },
  {
   "cell_type": "markdown",
   "metadata": {},
   "source": [
    "## Create LangGraph Workflow"
   ]
  },
  {
   "cell_type": "code",
   "execution_count": 19,
   "metadata": {},
   "outputs": [],
   "source": [
    "class MultiAgentState(TypedDict):\n",
    "    question: str\n",
    "    documents: Annotated[list[str], add]\n",
    "    question_type: str\n",
    "    answer: str \n",
    "    followup_questions: list[str]"
   ]
  },
  {
   "cell_type": "code",
   "execution_count": 20,
   "metadata": {},
   "outputs": [],
   "source": [
    "members = [\"Metadata\", \"Review-Vectorstore\"]\n",
    "system_prompt = (\n",
    "    '''\n",
    "    You are an efficient supervisor responsible for overseeing a conversation between the following agents: {members}. \n",
    "\n",
    "    If you got response from the Agent (response given below as \"Generated Answer from the Agents:\"), respond with 'FINISH' to move on to next step. \n",
    "    \n",
    "    Based on the user's request, decide which agent should respond next. Each agent will complete a task and return their result. \n",
    "    \n",
    "    There are two agents working alongside you:\n",
    "        - Metadata: This agent has all metadata information about that product. \n",
    "        - Review-Vectorstore: This is a FAISS Vectorstore db containing documents related to all the user reviews for that product.\n",
    "    \n",
    "    If you got unsatisfied response from the Agents (Agent Throwing Errors like: \"Metadata: Unable to generate result\") ONLY THEN Call an Agent a **MAXIMUM of TWO TIMES** before responding with 'FINISH'.\n",
    "    Once sufficient information is obtained from the Agents, respond with 'FINISH', after which Alpha, the final assistant, will provide the concluding guidance to the user.\n",
    "    If the query is generic (Hello, How are you, etc) then route it to Alpha and respond with 'FINISH.' \n",
    "\n",
    "    If you got satisfactory response from the Agent (response given above), respond with 'FINISH' to move on to next step. \n",
    "    '''\n",
    ")\n",
    "\n",
    "# Our team supervisor is an LLM node. It just picks the next agent to process and decides when the work is completed\n",
    "options = [\"FINISH\"] + members"
   ]
  },
  {
   "cell_type": "code",
   "execution_count": 21,
   "metadata": {},
   "outputs": [],
   "source": [
    "class RouteQuery(BaseModel):\n",
    "    \"\"\"Route a user query to the most relevant datasource.\"\"\"\n",
    "\n",
    "    datasource: Literal[*options] "
   ]
  },
  {
   "cell_type": "code",
   "execution_count": 22,
   "metadata": {},
   "outputs": [],
   "source": [
    "prompt = ChatPromptTemplate.from_messages(\n",
    "    [\n",
    "        (\"system\", system_prompt),\n",
    "        ('system', \"Generated Answer from the Agents: {document}\"),\n",
    "        (\"human\", \"{question}\"),\n",
    "        (\n",
    "            \"system\",\n",
    "            \"Given the conversation above, who should act next?\"\n",
    "            \"Or should we FINISH? Select one of: {options}\",\n",
    "        ),\n",
    "    ]\n",
    ").partial(options=str(options), members=\", \".join(members))\n",
    "\n",
    "\n",
    "llm = ChatOpenAI(model_name=\"gpt-4o-mini\")\n",
    "def supervisor_agent(state: MultiAgentState):\n",
    "    question = state[\"question\"]\n",
    "    document = state[\"documents\"]\n",
    "    supervisor_chain = prompt | llm.with_structured_output(RouteQuery)\n",
    "    update_documents = [m for m in document[-5:]]\n",
    "    return {'question_type' : supervisor_chain.invoke({\"question\": question, 'document': document}), 'question': question, 'documents': update_documents}"
   ]
  },
  {
   "cell_type": "code",
   "execution_count": 23,
   "metadata": {},
   "outputs": [],
   "source": [
    "def route_question(state):\n",
    "    print(\"---ROUTE QUESTION---\")\n",
    "    source = state['question_type']\n",
    "    if source.datasource == \"Metadata\":\n",
    "        print(\"---ROUTE QUESTION TO METADATA---\")\n",
    "        return \"Metadata\"\n",
    "    elif source.datasource == \"Review-Vectorstore\":\n",
    "        print(\"---ROUTE QUESTION TO FAISS---\")\n",
    "        return \"Review-Vectorstore\"\n",
    "    elif source.datasource == \"FINISH\":\n",
    "        print(\"---ROUTE QUESTION TO ALPHA---\")\n",
    "        return \"FINISH\""
   ]
  },
  {
   "cell_type": "code",
   "execution_count": 24,
   "metadata": {},
   "outputs": [],
   "source": [
    "def metadata_node(state: MultiAgentState):\n",
    "    meta_llm = ChatGroq(model_name=\"llama-3.1-8b-instant\")\n",
    "\n",
    "    modified_details = meta_df['details'].astype(str).str.replace('{', '[')\n",
    "    \n",
    "    # Answer question\n",
    "    meta_system_prompt =( \n",
    "        f'''\n",
    "        You are a great Data Interpreter and Summarizer. Read the Product Meta Data sent to you and Produce it in 500 words.\n",
    "        \n",
    "        Meta Data:\n",
    "        main_category: {(meta_df.at[0,'main_category'])}\n",
    "        title: {(meta_df.at[0, 'title'])}\n",
    "        average_rating: {(meta_df.at[0, 'average_rating'])}\n",
    "        rating_number: {(meta_df.at[0, 'rating_number'])}\n",
    "        features: {(meta_df.at[0, 'features'])}\n",
    "        description: {(meta_df.at[0, 'description'])}\n",
    "        price: {(meta_df.at[0, 'price'])}\n",
    "        store: {(meta_df.at[0, 'store'])}\n",
    "        categories: {(meta_df.at[0, 'categories'])}\t\n",
    "        details: {(modified_details.at[0])}\n",
    "\n",
    "        Return in a proper format:\n",
    "        main_category: Same \n",
    "        title: Same\n",
    "        average_rating: Same\n",
    "        rating_number: Same\n",
    "        features: Summarize\t\n",
    "        description: Summarize\n",
    "        price: Same\n",
    "        store: Same\t\n",
    "        categories: Same\t\n",
    "        details: Same/Summarize where necessary\t\n",
    "\n",
    "        Do not answer any user question, just provide the meta data\n",
    "        '''\n",
    "    )\n",
    "\n",
    "    meta_system_prompt = meta_system_prompt.replace('{', '{{').replace('}', '}}')\n",
    "\n",
    "    meta_qa_prompt = ChatPromptTemplate.from_messages(\n",
    "                    [\n",
    "                        (\"system\", meta_system_prompt),\n",
    "                    ]\n",
    "                )\n",
    "    parser = StrOutputParser()\n",
    "    meta_chain = meta_qa_prompt | meta_llm | parser\n",
    "\n",
    "    try:\n",
    "        # Meta Summary\n",
    "        meta_results = meta_chain.invoke({'input': ''})\n",
    "        meta_results = Document(page_content=meta_results, metadata={\"source\": \"Metadata\"})\n",
    "        \n",
    "    except Exception as error:\n",
    "        print(error)\n",
    "        content = \"Metadata: Unable to generate result\"\n",
    "        meta_results = Document(page_content=content, metadata={\"source\": \"Metadata\"})\n",
    "\n",
    "    return {'documents': [meta_results], \"question\": state[\"question\"]}"
   ]
  },
  {
   "cell_type": "code",
   "execution_count": 25,
   "metadata": {},
   "outputs": [],
   "source": [
    "def retrieve(state: MultiAgentState):\n",
    "    \"\"\"\n",
    "    Retrieve documents\n",
    "\n",
    "    Args:\n",
    "        state (dict): The current graph state\n",
    "\n",
    "    Returns:\n",
    "        state (dict): New key added to state, documents, that contains retrieved documents\n",
    "    \"\"\"\n",
    "    print(\"---RETRIEVE---\")\n",
    "    question = state[\"question\"]\n",
    "\n",
    "    embeddings = HuggingFaceEmbeddings(model_name=\"all-MiniLM-L6-v2\")\n",
    "    vectordb = FAISS.from_documents(documents=review_documents, embedding=embeddings)\n",
    "    \n",
    "\n",
    "    retriever = vectordb.as_retriever()\n",
    "    # Retrieval\n",
    "    documents = retriever.invoke(question)\n",
    "\n",
    "    return {\"documents\": documents, \"question\": question}"
   ]
  },
  {
   "cell_type": "code",
   "execution_count": 26,
   "metadata": {},
   "outputs": [],
   "source": [
    "def final_llm_node(state: MultiAgentState):\n",
    "    question = state[\"question\"]\n",
    "    documents = state[\"documents\"]\n",
    "\n",
    "    model = ChatGroq(model_name=\"llama-3.1-70b-versatile\")\n",
    "    system_prompt = (\n",
    "        f'''\n",
    "        You are Alpha, a highly knowledgeable and efficient chatbot assistant designed to help users with questions related to products.\n",
    "        Your primary role is to assist users by providing concise, accurate, and insightful responses based on the product information and reviews available to you.\n",
    "        If you don’t have the necessary information to answer the question, simply say that you don’t know.\n",
    "\n",
    "        There are two agents working alongside you:\n",
    "        - Metadata: This agent provides answers related to a product. It has all the information about that product.\n",
    "        - Review-Vectorstore: This is a FAISS Vectorstore db containing documents related to all the user reviews for one product.\n",
    "        \n",
    "        When a User (Shopper) comes to you for help, the question might have first been routed through either the Metadata or the Review-Vectorstore. \n",
    "\n",
    "        Your primary objective is to offer clear, concise, and helpful advice to the teacher, ensuring that they receive the most accurate and useful information to support their shopping needs.\n",
    "\n",
    "        Instructions:\n",
    "        - Analyze the product information and/or reviews provided.\n",
    "        - Provide brief, clear, and helpful answers to user queries about the product.\n",
    "        - Focus on delivering concise and actionable insights to help users make informed decisions.\n",
    "\n",
    "        The responses from those agents are available to you, and if their answers were incomplete or unsatisfactory, you will find this reflected in the context field. \n",
    "        Your job is to analyze their responses, determine if they are adequate, and provide additional guidance or clarification where needed.\n",
    "        Below is the context from one of the agents:\n",
    "        '''\n",
    "        \"{context}\"\n",
    "    )\n",
    "\n",
    "    qa_prompt = ChatPromptTemplate.from_messages(\n",
    "                    [\n",
    "                        (\"system\", system_prompt),\n",
    "                        (\"human\", \"{input}\")\n",
    "                    ]\n",
    "                )\n",
    "    question_answer_chain = qa_prompt | model\n",
    "\n",
    "    generation = question_answer_chain.invoke({\"context\": documents, \"input\": question})\n",
    "\n",
    "    return {\"documents\": documents, \"question\": question, \"answer\": generation}"
   ]
  },
  {
   "cell_type": "code",
   "execution_count": 27,
   "metadata": {},
   "outputs": [],
   "source": [
    "def followup_node(state: MultiAgentState):\n",
    "    documents = state['documents']\n",
    "    question = state['question']\n",
    "    answer = state['answer']\n",
    "    \n",
    "    model = ChatGroq(model_name=\"llama-3.1-8b-instant\")\n",
    "    system_prompt = (\n",
    "        '''\n",
    "        Given the following:\n",
    "        User Question: {question}\n",
    "        Answer: {answer}\n",
    "        Context: {context}\n",
    "        Please generate three possible follow-up questions that the user might ask, each on a new line, without any numbering or bullet points. Do not include any explanations—just list the follow-up questions.\n",
    "        Format them like this:\n",
    "        question1\\nquestion2\\nquestion3\n",
    "        '''\n",
    "    )       \n",
    "    follow_prompt = ChatPromptTemplate.from_messages(\n",
    "                    [\n",
    "                        (\"system\", system_prompt),\n",
    "                    ]\n",
    "                )\n",
    "    \n",
    "    followup_chain = follow_prompt | model\n",
    "    followup = followup_chain.invoke({'question': question, 'answer': answer, 'context': documents[-2:]}) # just consider last two document list \n",
    "    followup_questions = followup.content.split('\\n')\n",
    "    \n",
    "    return {\"question\": question, \"answer\": answer, \"documents\": documents, 'followup_questions': followup_questions}       "
   ]
  },
  {
   "cell_type": "code",
   "execution_count": 28,
   "metadata": {},
   "outputs": [],
   "source": [
    "memory = MemorySaver()\n",
    "builder = StateGraph(MultiAgentState)\n",
    "builder.add_node(\"Metadata\", metadata_node)\n",
    "builder.add_node(\"Review-Vectorstore\", retrieve)\n",
    "builder.add_node(\"supervisor\", supervisor_agent)\n",
    "builder.add_node(\"generate\", final_llm_node)\n",
    "builder.add_node(\"final\", followup_node)\n",
    "\n",
    "for member in members:\n",
    "    builder.add_edge(member, \"supervisor\")\n",
    "conditional_map = {k: k for k in members}\n",
    "conditional_map[\"FINISH\"] = 'generate'\n",
    "\n",
    "builder.add_conditional_edges(\"supervisor\", route_question, conditional_map)\n",
    "\n",
    "builder.add_edge(START, \"supervisor\")\n",
    "builder.add_edge(\"generate\", \"final\")\n",
    "builder.add_edge(\"final\", END)\n",
    "\n",
    "app = builder.compile(checkpointer=memory)"
   ]
  },
  {
   "cell_type": "code",
   "execution_count": 29,
   "metadata": {},
   "outputs": [
    {
     "data": {
      "image/jpeg": "[encoded data removed]",
      "text/plain": [
       "<IPython.core.display.Image object>"
      ]
     },
     "metadata": {},
     "output_type": "display_data"
    }
   ],
   "source": [
    "from IPython.display import Image, display\n",
    "from langchain_core.runnables.graph import MermaidDrawMethod\n",
    "\n",
    "display(\n",
    "    Image(\n",
    "        app.get_graph().draw_mermaid_png(\n",
    "            draw_method=MermaidDrawMethod.API,\n",
    "        )\n",
    "    )\n",
    ")"
   ]
  },
  {
   "cell_type": "code",
   "execution_count": 30,
   "metadata": {},
   "outputs": [
    {
     "name": "stdout",
     "output_type": "stream",
     "text": [
      "---ROUTE QUESTION---\n",
      "---ROUTE QUESTION TO METADATA---\n",
      "---ROUTE QUESTION---\n",
      "---ROUTE QUESTION TO ALPHA---\n",
      "Question:\n",
      "What is the product dimension?\n",
      "Answer:\n",
      "According to the product metadata, the dimensions of the book \"Winter's Tale\" are 5.31 x 1.76 x 8 inches.\n",
      "Followup-Questions:\n",
      "[\"What are the book's ISBN numbers?\", 'Is the book in paperback format?', 'What is the total weight of the book including the packaging?']\n"
     ]
    }
   ],
   "source": [
    "config = {\"configurable\": {\"thread_id\": \"1\"}, \"callbacks\": [langfuse_handler]}\n",
    "inputs = {\"question\": \"What is the product dimension?\"}\n",
    "for output in app.stream(inputs, config=config):\n",
    "    if 'final' in output:\n",
    "        print(\"Question:\")\n",
    "        print(output['final']['question'])\n",
    "        print(\"Answer:\")\n",
    "        print(output['final']['answer'].content)\n",
    "        print(\"Followup-Questions:\")\n",
    "        print(output['final']['followup_questions'])"
   ]
  },
  {
   "cell_type": "code",
   "execution_count": 30,
   "metadata": {},
   "outputs": [
    {
     "name": "stdout",
     "output_type": "stream",
     "text": [
      "---ROUTE QUESTION---\n",
      "---ROUTE QUESTION TO FAISS---\n",
      "---RETRIEVE---\n"
     ]
    },
    {
     "name": "stderr",
     "output_type": "stream",
     "text": [
      "f:\\College\\Masters\\Semesters\\Fall 2024\\MLOps\\eCom-chat\\verta\\Lib\\site-packages\\sentence_transformers\\cross_encoder\\CrossEncoder.py:13: TqdmWarning: IProgress not found. Please update jupyter and ipywidgets. See https://ipywidgets.readthedocs.io/en/stable/user_install.html\n",
      "  from tqdm.autonotebook import tqdm, trange\n"
     ]
    },
    {
     "name": "stdout",
     "output_type": "stream",
     "text": [
      "<class 'langchain_core.vectorstores.base.VectorStoreRetriever'>\n",
      "---ROUTE QUESTION---\n",
      "---ROUTE QUESTION TO FAISS---\n",
      "---RETRIEVE---\n",
      "<class 'langchain_core.vectorstores.base.VectorStoreRetriever'>\n",
      "---ROUTE QUESTION---\n",
      "---ROUTE QUESTION TO FAISS---\n",
      "---RETRIEVE---\n",
      "<class 'langchain_core.vectorstores.base.VectorStoreRetriever'>\n",
      "---ROUTE QUESTION---\n",
      "---ROUTE QUESTION TO FAISS---\n",
      "---RETRIEVE---\n",
      "<class 'langchain_core.vectorstores.base.VectorStoreRetriever'>\n",
      "---ROUTE QUESTION---\n",
      "---ROUTE QUESTION TO FAISS---\n",
      "---RETRIEVE---\n",
      "<class 'langchain_core.vectorstores.base.VectorStoreRetriever'>\n",
      "---ROUTE QUESTION---\n",
      "---ROUTE QUESTION TO FAISS---\n",
      "---RETRIEVE---\n",
      "<class 'langchain_core.vectorstores.base.VectorStoreRetriever'>\n",
      "---ROUTE QUESTION---\n",
      "---ROUTE QUESTION TO FAISS---\n",
      "---RETRIEVE---\n",
      "<class 'langchain_core.vectorstores.base.VectorStoreRetriever'>\n",
      "---ROUTE QUESTION---\n",
      "---ROUTE QUESTION TO FAISS---\n",
      "---RETRIEVE---\n",
      "<class 'langchain_core.vectorstores.base.VectorStoreRetriever'>\n",
      "---ROUTE QUESTION---\n",
      "---ROUTE QUESTION TO FAISS---\n",
      "---RETRIEVE---\n",
      "<class 'langchain_core.vectorstores.base.VectorStoreRetriever'>\n",
      "---ROUTE QUESTION---\n",
      "---ROUTE QUESTION TO FAISS---\n",
      "---RETRIEVE---\n",
      "<class 'langchain_core.vectorstores.base.VectorStoreRetriever'>\n",
      "---ROUTE QUESTION---\n",
      "---ROUTE QUESTION TO FAISS---\n",
      "---RETRIEVE---\n",
      "<class 'langchain_core.vectorstores.base.VectorStoreRetriever'>\n",
      "---ROUTE QUESTION---\n",
      "---ROUTE QUESTION TO FAISS---\n",
      "---RETRIEVE---\n",
      "<class 'langchain_core.vectorstores.base.VectorStoreRetriever'>\n",
      "---ROUTE QUESTION---\n",
      "---ROUTE QUESTION TO FAISS---\n"
     ]
    },
    {
     "ename": "GraphRecursionError",
     "evalue": "Recursion limit of 25 reached without hitting a stop condition. You can increase the limit by setting the `recursion_limit` config key.\nFor troubleshooting, visit: https://python.langchain.com/docs/troubleshooting/errors/GRAPH_RECURSION_LIMIT",
     "output_type": "error",
     "traceback": [
      "\u001b[1;31m---------------------------------------------------------------------------\u001b[0m",
      "\u001b[1;31mGraphRecursionError\u001b[0m                       Traceback (most recent call last)",
      "Cell \u001b[1;32mIn[30], line 3\u001b[0m\n\u001b[0;32m      1\u001b[0m config \u001b[38;5;241m=\u001b[39m {\u001b[38;5;124m\"\u001b[39m\u001b[38;5;124mconfigurable\u001b[39m\u001b[38;5;124m\"\u001b[39m: {\u001b[38;5;124m\"\u001b[39m\u001b[38;5;124mthread_id\u001b[39m\u001b[38;5;124m\"\u001b[39m: \u001b[38;5;124m\"\u001b[39m\u001b[38;5;124m1\u001b[39m\u001b[38;5;124m\"\u001b[39m}, \u001b[38;5;124m\"\u001b[39m\u001b[38;5;124mcallbacks\u001b[39m\u001b[38;5;124m\"\u001b[39m: [langfuse_handler]}\n\u001b[0;32m      2\u001b[0m inputs \u001b[38;5;241m=\u001b[39m {\u001b[38;5;124m\"\u001b[39m\u001b[38;5;124mquestion\u001b[39m\u001b[38;5;124m\"\u001b[39m: \u001b[38;5;124m\"\u001b[39m\u001b[38;5;124mHow are the reviews?\u001b[39m\u001b[38;5;124m\"\u001b[39m}\n\u001b[1;32m----> 3\u001b[0m \u001b[38;5;28;43;01mfor\u001b[39;49;00m\u001b[43m \u001b[49m\u001b[43moutput\u001b[49m\u001b[43m \u001b[49m\u001b[38;5;129;43;01min\u001b[39;49;00m\u001b[43m \u001b[49m\u001b[43mapp\u001b[49m\u001b[38;5;241;43m.\u001b[39;49m\u001b[43mstream\u001b[49m\u001b[43m(\u001b[49m\u001b[43minputs\u001b[49m\u001b[43m,\u001b[49m\u001b[43m \u001b[49m\u001b[43mconfig\u001b[49m\u001b[38;5;241;43m=\u001b[39;49m\u001b[43mconfig\u001b[49m\u001b[43m)\u001b[49m\u001b[43m:\u001b[49m\n\u001b[0;32m      4\u001b[0m \u001b[43m    \u001b[49m\u001b[38;5;28;43;01mif\u001b[39;49;00m\u001b[43m \u001b[49m\u001b[38;5;124;43m'\u001b[39;49m\u001b[38;5;124;43mfinal\u001b[39;49m\u001b[38;5;124;43m'\u001b[39;49m\u001b[43m \u001b[49m\u001b[38;5;129;43;01min\u001b[39;49;00m\u001b[43m \u001b[49m\u001b[43moutput\u001b[49m\u001b[43m:\u001b[49m\n\u001b[0;32m      5\u001b[0m \u001b[43m        \u001b[49m\u001b[38;5;28;43mprint\u001b[39;49m\u001b[43m(\u001b[49m\u001b[38;5;124;43m\"\u001b[39;49m\u001b[38;5;124;43mQuestion:\u001b[39;49m\u001b[38;5;124;43m\"\u001b[39;49m\u001b[43m)\u001b[49m\n",
      "File \u001b[1;32mf:\\College\\Masters\\Semesters\\Fall 2024\\MLOps\\eCom-chat\\verta\\Lib\\site-packages\\langgraph\\pregel\\__init__.py:1335\u001b[0m, in \u001b[0;36mPregel.stream\u001b[1;34m(self, input, config, stream_mode, output_keys, interrupt_before, interrupt_after, debug, subgraphs)\u001b[0m\n\u001b[0;32m   1326\u001b[0m \u001b[38;5;28;01mif\u001b[39;00m loop\u001b[38;5;241m.\u001b[39mstatus \u001b[38;5;241m==\u001b[39m \u001b[38;5;124m\"\u001b[39m\u001b[38;5;124mout_of_steps\u001b[39m\u001b[38;5;124m\"\u001b[39m:\n\u001b[0;32m   1327\u001b[0m     msg \u001b[38;5;241m=\u001b[39m create_error_message(\n\u001b[0;32m   1328\u001b[0m         message\u001b[38;5;241m=\u001b[39m(\n\u001b[0;32m   1329\u001b[0m             \u001b[38;5;124mf\u001b[39m\u001b[38;5;124m\"\u001b[39m\u001b[38;5;124mRecursion limit of \u001b[39m\u001b[38;5;132;01m{\u001b[39;00mconfig[\u001b[38;5;124m'\u001b[39m\u001b[38;5;124mrecursion_limit\u001b[39m\u001b[38;5;124m'\u001b[39m]\u001b[38;5;132;01m}\u001b[39;00m\u001b[38;5;124m reached \u001b[39m\u001b[38;5;124m\"\u001b[39m\n\u001b[1;32m   (...)\u001b[0m\n\u001b[0;32m   1333\u001b[0m         error_code\u001b[38;5;241m=\u001b[39mErrorCode\u001b[38;5;241m.\u001b[39mGRAPH_RECURSION_LIMIT,\n\u001b[0;32m   1334\u001b[0m     )\n\u001b[1;32m-> 1335\u001b[0m     \u001b[38;5;28;01mraise\u001b[39;00m GraphRecursionError(msg)\n\u001b[0;32m   1336\u001b[0m \u001b[38;5;66;03m# set final channel values as run output\u001b[39;00m\n\u001b[0;32m   1337\u001b[0m run_manager\u001b[38;5;241m.\u001b[39mon_chain_end(loop\u001b[38;5;241m.\u001b[39moutput)\n",
      "\u001b[1;31mGraphRecursionError\u001b[0m: Recursion limit of 25 reached without hitting a stop condition. You can increase the limit by setting the `recursion_limit` config key.\nFor troubleshooting, visit: https://python.langchain.com/docs/troubleshooting/errors/GRAPH_RECURSION_LIMIT"
     ]
    },
    {
     "ename": "",
     "evalue": "",
     "output_type": "error",
     "traceback": [
      "\u001b[1;31mThe Kernel crashed while executing code in the current cell or a previous cell. \n",
      "\u001b[1;31mPlease review the code in the cell(s) to identify a possible cause of the failure. \n",
      "\u001b[1;31mClick <a href='https://aka.ms/vscodeJupyterKernelCrash'>here</a> for more info. \n",
      "\u001b[1;31mView Jupyter <a href='command:jupyter.viewOutput'>log</a> for further details."
     ]
    }
   ],
   "source": [
    "config = {\"configurable\": {\"thread_id\": \"1\"}, \"callbacks\": [langfuse_handler]}\n",
    "inputs = {\"question\": \"How are the reviews?\"}\n",
    "for output in app.stream(inputs, config=config):\n",
    "    if 'final' in output:\n",
    "        print(\"Question:\")\n",
    "        print(output['final']['question'])\n",
    "        print(\"Answer:\")\n",
    "        print(output['final']['answer'].content)\n",
    "        print(\"Followup-Questions:\")\n",
    "        print(output['final']['followup_questions'])"
   ]
  },
  {
   "cell_type": "code",
   "execution_count": null,
   "metadata": {},
   "outputs": [],
   "source": []
  }
 ],
 "metadata": {
  "kernelspec": {
   "display_name": "Python 3",
   "language": "python",
   "name": "python3"
  },
  "language_info": {
   "codemirror_mode": {
    "name": "ipython",
    "version": 3
   },
   "file_extension": ".py",
   "mimetype": "text/x-python",
   "name": "python",
   "nbconvert_exporter": "python",
   "pygments_lexer": "ipython3",
   "version": "3.11.0"
  }
 },
 "nbformat": 4,
 "nbformat_minor": 2
}
