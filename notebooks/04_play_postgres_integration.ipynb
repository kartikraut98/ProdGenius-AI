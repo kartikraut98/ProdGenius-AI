{
 "cells": [
  {
   "cell_type": "code",
   "execution_count": 1,
   "metadata": {},
   "outputs": [],
   "source": [
    "import os\n",
    "import pg8000\n",
    "import sqlalchemy\n",
    "import pandas as pd\n",
    "from operator import add\n",
    "from typing import Literal\n",
    "from sqlalchemy import text\n",
    "from typing import Annotated\n",
    "from pydantic import BaseModel\n",
    "from dotenv import load_dotenv\n",
    "from langchain_groq import ChatGroq\n",
    "from langchain.schema import Document\n",
    "from langchain_openai import ChatOpenAI\n",
    "from typing_extensions import TypedDict\n",
    "from langchain_community.vectorstores import FAISS\n",
    "from langgraph.graph import END, StateGraph, START\n",
    "from langgraph.checkpoint.memory import MemorySaver\n",
    "from langchain_core.prompts import ChatPromptTemplate\n",
    "from langchain.document_loaders import DataFrameLoader\n",
    "from langchain_huggingface import HuggingFaceEmbeddings\n",
    "from langchain_core.output_parsers import StrOutputParser\n",
    "from google.cloud.sql.connector import Connector, IPTypes\n",
    "from langchain_core.vectorstores.base import VectorStoreRetriever"
   ]
  },
  {
   "cell_type": "code",
   "execution_count": 2,
   "metadata": {},
   "outputs": [
    {
     "data": {
      "text/plain": [
       "'/Users/henil08/College/Semesters/Fall 2024/eCom-Chatbot/notebooks'"
      ]
     },
     "execution_count": 2,
     "metadata": {},
     "output_type": "execute_result"
    }
   ],
   "source": [
    "%pwd"
   ]
  },
  {
   "cell_type": "code",
   "execution_count": 3,
   "metadata": {},
   "outputs": [],
   "source": [
    "os.chdir('../')"
   ]
  },
  {
   "cell_type": "code",
   "execution_count": 4,
   "metadata": {},
   "outputs": [
    {
     "data": {
      "text/plain": [
       "True"
      ]
     },
     "execution_count": 4,
     "metadata": {},
     "output_type": "execute_result"
    }
   ],
   "source": [
    "load_dotenv()"
   ]
  },
  {
   "cell_type": "code",
   "execution_count": 5,
   "metadata": {},
   "outputs": [],
   "source": [
    "## load the API Keys\n",
    "os.environ['HF_TOKEN']=os.getenv(\"HF_TOKEN\")\n",
    "os.environ['OPENAI_API_KEY']=os.getenv(\"OPENAI_API_KEY\")\n",
    "os.environ['GROQ_API_KEY']=os.getenv(\"GROQ_API_KEY\")\n",
    "\n",
    "## Langfuse\n",
    "os.environ['LANGFUSE_PUBLIC_KEY']=os.getenv(\"LANGFUSE_PUBLIC_KEY\")\n",
    "os.environ['LANGFUSE_SECRET_KEY']=os.getenv(\"LANGFUSE_SECRET_KEY\")\n",
    "os.environ['LANGFUSE_HOST']=os.getenv(\"LANGFUSE_HOST\")\n",
    "\n",
    "## Postgres DB\n",
    "instance_connection_name = os.getenv(\"INSTANCE_CONNECTION_NAME\")\n",
    "db_user = os.getenv(\"DB_USER\")  \n",
    "db_pass = os.getenv(\"DB_PASS\")  \n",
    "db_name = os.getenv(\"DB_NAME\")  "
   ]
  },
  {
   "cell_type": "code",
   "execution_count": 6,
   "metadata": {},
   "outputs": [],
   "source": [
    "from langfuse.callback import CallbackHandler\n",
    "\n",
    "langfuse_handler = CallbackHandler(\n",
    "    public_key=os.environ['LANGFUSE_PUBLIC_KEY'],\n",
    "    secret_key=os.environ['LANGFUSE_SECRET_KEY'],\n",
    "    host=os.environ['LANGFUSE_HOST']\n",
    ")"
   ]
  },
  {
   "cell_type": "code",
   "execution_count": 7,
   "metadata": {},
   "outputs": [],
   "source": [
    "REVIEW_TABLE = \"ecom-chat-437005.ecom_chat.review\"\n",
    "META_TABLE = \"ecom-chat-437005.ecom_chat.meta\"\n",
    "PARENT_ASIN = 'B07MQFWF1B'"
   ]
  },
  {
   "cell_type": "markdown",
   "metadata": {},
   "source": [
    "## Connect Postgres"
   ]
  },
  {
   "cell_type": "code",
   "execution_count": 8,
   "metadata": {},
   "outputs": [],
   "source": [
    "def connect_with_db() -> sqlalchemy.engine.base.Engine:\n",
    "    ip_type = IPTypes.PRIVATE if os.getenv(\"PRIVATE_IP\") else IPTypes.PUBLIC\n",
    "    connector = Connector()\n",
    "    def getconn() -> pg8000.dbapi.Connection:\n",
    "        conn: pg8000.dbapi.Connection = connector.connect(\n",
    "            instance_connection_name,\n",
    "            \"pg8000\",\n",
    "            user=db_user,\n",
    "            password=db_pass,\n",
    "            db=db_name,\n",
    "            ip_type=ip_type,\n",
    "        )\n",
    "        return conn\n",
    "    pool = sqlalchemy.create_engine(\n",
    "        \"postgresql+pg8000://\",\n",
    "        creator=getconn,\n",
    "    )\n",
    "    return pool"
   ]
  },
  {
   "cell_type": "code",
   "execution_count": 9,
   "metadata": {},
   "outputs": [],
   "source": [
    "engine = connect_with_db()"
   ]
  },
  {
   "cell_type": "code",
   "execution_count": 10,
   "metadata": {},
   "outputs": [],
   "source": [
    "with engine.begin() as connection:\n",
    "    try:\n",
    "        query = text(f\"\"\"\n",
    "                     SELECT parent_asin, asin, helpful_vote, timestamp, verified_purchase, title, text\n",
    "                     FROM userreviews ur \n",
    "                     WHERE ur.parent_asin = '{PARENT_ASIN}';\"\"\")\n",
    "        result = connection.execute(query)\n",
    "        review_df = pd.DataFrame(result.fetchall(), columns=result.keys())\n",
    "    except Exception as e: print(e)"
   ]
  },
  {
   "cell_type": "code",
   "execution_count": 11,
   "metadata": {},
   "outputs": [
    {
     "data": {
      "text/html": [
       "<div>\n",
       "<style scoped>\n",
       "    .dataframe tbody tr th:only-of-type {\n",
       "        vertical-align: middle;\n",
       "    }\n",
       "\n",
       "    .dataframe tbody tr th {\n",
       "        vertical-align: top;\n",
       "    }\n",
       "\n",
       "    .dataframe thead th {\n",
       "        text-align: right;\n",
       "    }\n",
       "</style>\n",
       "<table border=\"1\" class=\"dataframe\">\n",
       "  <thead>\n",
       "    <tr style=\"text-align: right;\">\n",
       "      <th></th>\n",
       "      <th>parent_asin</th>\n",
       "      <th>asin</th>\n",
       "      <th>helpful_vote</th>\n",
       "      <th>timestamp</th>\n",
       "      <th>verified_purchase</th>\n",
       "      <th>title</th>\n",
       "      <th>text</th>\n",
       "    </tr>\n",
       "  </thead>\n",
       "  <tbody>\n",
       "    <tr>\n",
       "      <th>0</th>\n",
       "      <td>B07MQFWF1B</td>\n",
       "      <td>B07MQFWF1B</td>\n",
       "      <td>0</td>\n",
       "      <td>2019-10-30 18:35:35.344</td>\n",
       "      <td>True</td>\n",
       "      <td>Girl like it</td>\n",
       "      <td>Girl love it , she can paint on it also</td>\n",
       "    </tr>\n",
       "    <tr>\n",
       "      <th>1</th>\n",
       "      <td>B07MQFWF1B</td>\n",
       "      <td>B07MQFWF1B</td>\n",
       "      <td>0</td>\n",
       "      <td>2020-10-07 23:03:31.400</td>\n",
       "      <td>True</td>\n",
       "      <td>Nice design but needs tape to support it</td>\n",
       "      <td>This is the 4th cardboard house that I've purc...</td>\n",
       "    </tr>\n",
       "    <tr>\n",
       "      <th>2</th>\n",
       "      <td>B07MQFWF1B</td>\n",
       "      <td>B07MQFWF1B</td>\n",
       "      <td>0</td>\n",
       "      <td>2021-01-15 13:40:07.739</td>\n",
       "      <td>True</td>\n",
       "      <td>Great purchase for my 4 and 6 yr olds</td>\n",
       "      <td>My girls love this and I live that it is a wor...</td>\n",
       "    </tr>\n",
       "  </tbody>\n",
       "</table>\n",
       "</div>"
      ],
      "text/plain": [
       "  parent_asin        asin helpful_vote                timestamp  \\\n",
       "0  B07MQFWF1B  B07MQFWF1B            0  2019-10-30 18:35:35.344   \n",
       "1  B07MQFWF1B  B07MQFWF1B            0  2020-10-07 23:03:31.400   \n",
       "2  B07MQFWF1B  B07MQFWF1B            0  2021-01-15 13:40:07.739   \n",
       "\n",
       "  verified_purchase                                     title  \\\n",
       "0              True                              Girl like it   \n",
       "1              True  Nice design but needs tape to support it   \n",
       "2              True     Great purchase for my 4 and 6 yr olds   \n",
       "\n",
       "                                                text  \n",
       "0            Girl love it , she can paint on it also  \n",
       "1  This is the 4th cardboard house that I've purc...  \n",
       "2  My girls love this and I live that it is a wor...  "
      ]
     },
     "execution_count": 11,
     "metadata": {},
     "output_type": "execute_result"
    }
   ],
   "source": [
    "review_df.head()"
   ]
  },
  {
   "cell_type": "code",
   "execution_count": 12,
   "metadata": {},
   "outputs": [],
   "source": [
    "with engine.begin() as connection:\n",
    "    try:\n",
    "        query = text(f\"\"\"\n",
    "                     SELECT parent_asin, main_category, title, average_rating, rating_number, features, description, price, store, categories, details\n",
    "                     FROM metadata md \n",
    "                     WHERE md.parent_asin = '{PARENT_ASIN}';\n",
    "                \"\"\")\n",
    "        result = connection.execute(query)\n",
    "        meta_df = pd.DataFrame(result.fetchall(), columns=result.keys())\n",
    "    except Exception as e: print(e)"
   ]
  },
  {
   "cell_type": "code",
   "execution_count": 13,
   "metadata": {},
   "outputs": [
    {
     "data": {
      "text/html": [
       "<div>\n",
       "<style scoped>\n",
       "    .dataframe tbody tr th:only-of-type {\n",
       "        vertical-align: middle;\n",
       "    }\n",
       "\n",
       "    .dataframe tbody tr th {\n",
       "        vertical-align: top;\n",
       "    }\n",
       "\n",
       "    .dataframe thead th {\n",
       "        text-align: right;\n",
       "    }\n",
       "</style>\n",
       "<table border=\"1\" class=\"dataframe\">\n",
       "  <thead>\n",
       "    <tr style=\"text-align: right;\">\n",
       "      <th></th>\n",
       "      <th>parent_asin</th>\n",
       "      <th>main_category</th>\n",
       "      <th>title</th>\n",
       "      <th>average_rating</th>\n",
       "      <th>rating_number</th>\n",
       "      <th>features</th>\n",
       "      <th>description</th>\n",
       "      <th>price</th>\n",
       "      <th>store</th>\n",
       "      <th>categories</th>\n",
       "      <th>details</th>\n",
       "    </tr>\n",
       "  </thead>\n",
       "  <tbody>\n",
       "    <tr>\n",
       "      <th>0</th>\n",
       "      <td>B07MQFWF1B</td>\n",
       "      <td>Toys &amp; Games</td>\n",
       "      <td>Easy Playhouse Valentine Cottage-Kids Art and ...</td>\n",
       "      <td>4.5</td>\n",
       "      <td>57</td>\n",
       "      <td>['PERSONALIZE YOUR FESTIVE VALENTINE COTTAGE -...</td>\n",
       "      <td>[\"Love is in the air! Your little ones will wa...</td>\n",
       "      <td>None</td>\n",
       "      <td>Easy Playhouse</td>\n",
       "      <td>['Toys &amp; Games', 'Preschool', 'Pre-Kindergarte...</td>\n",
       "      <td>{'Product Dimensions': '27.25 x 18.5 x 2.13 in...</td>\n",
       "    </tr>\n",
       "  </tbody>\n",
       "</table>\n",
       "</div>"
      ],
      "text/plain": [
       "  parent_asin main_category  \\\n",
       "0  B07MQFWF1B  Toys & Games   \n",
       "\n",
       "                                               title average_rating  \\\n",
       "0  Easy Playhouse Valentine Cottage-Kids Art and ...            4.5   \n",
       "\n",
       "  rating_number                                           features  \\\n",
       "0            57  ['PERSONALIZE YOUR FESTIVE VALENTINE COTTAGE -...   \n",
       "\n",
       "                                         description price           store  \\\n",
       "0  [\"Love is in the air! Your little ones will wa...  None  Easy Playhouse   \n",
       "\n",
       "                                          categories  \\\n",
       "0  ['Toys & Games', 'Preschool', 'Pre-Kindergarte...   \n",
       "\n",
       "                                             details  \n",
       "0  {'Product Dimensions': '27.25 x 18.5 x 2.13 in...  "
      ]
     },
     "execution_count": 13,
     "metadata": {},
     "output_type": "execute_result"
    }
   ],
   "source": [
    "meta_df.head()"
   ]
  },
  {
   "cell_type": "markdown",
   "metadata": {},
   "source": [
    "## Loading the Review Data"
   ]
  },
  {
   "cell_type": "code",
   "execution_count": 14,
   "metadata": {},
   "outputs": [
    {
     "name": "stderr",
     "output_type": "stream",
     "text": [
      "/Users/henil08/College/Semesters/Fall 2024/eCom-Chatbot/verta/lib/python3.11/site-packages/tqdm/auto.py:21: TqdmWarning: IProgress not found. Please update jupyter and ipywidgets. See https://ipywidgets.readthedocs.io/en/stable/user_install.html\n",
      "  from .autonotebook import tqdm as notebook_tqdm\n"
     ]
    }
   ],
   "source": [
    "# Load the Reviews\n",
    "loader = DataFrameLoader(review_df) \n",
    "review_docs = loader.load()\n",
    "\n",
    "embeddings = HuggingFaceEmbeddings(model_name=\"all-MiniLM-L6-v2\")\n",
    "vectordb = FAISS.from_documents(documents=review_docs, embedding=embeddings)\n",
    "\n",
    "retriever = vectordb.as_retriever()"
   ]
  },
  {
   "cell_type": "code",
   "execution_count": 15,
   "metadata": {},
   "outputs": [
    {
     "data": {
      "text/plain": [
       "Document(metadata={'parent_asin': 'B07MQFWF1B', 'asin': 'B07MQFWF1B', 'helpful_vote': '0', 'timestamp': '2019-10-30 18:35:35.344', 'verified_purchase': 'True', 'title': 'Girl like it'}, page_content='Girl love it , she can paint on it also')"
      ]
     },
     "execution_count": 15,
     "metadata": {},
     "output_type": "execute_result"
    }
   ],
   "source": [
    "review_docs[0]"
   ]
  },
  {
   "cell_type": "markdown",
   "metadata": {},
   "source": [
    "## Create LangGraph Workflow"
   ]
  },
  {
   "cell_type": "code",
   "execution_count": 16,
   "metadata": {},
   "outputs": [],
   "source": [
    "class MultiAgentState(TypedDict):\n",
    "    question: str\n",
    "    question_type: str\n",
    "    answer: str \n",
    "    documents: Annotated[list[str], add]\n",
    "    meta_data: pd.DataFrame\n",
    "    retriever: VectorStoreRetriever\n",
    "    followup_questions: list[str]"
   ]
  },
  {
   "cell_type": "code",
   "execution_count": 17,
   "metadata": {},
   "outputs": [],
   "source": [
    "MEMBERS = [\"Metadata\", \"Review-Vectorstore\"]\n",
    "OPTIONS = [\"FINISH\"] + MEMBERS\n",
    "CONDITIONAL_MAP = {k: k for k in MEMBERS}\n",
    "CONDITIONAL_MAP[\"FINISH\"] = 'generate'"
   ]
  },
  {
   "cell_type": "code",
   "execution_count": 18,
   "metadata": {},
   "outputs": [],
   "source": [
    "class RouteQuery(BaseModel):\n",
    "    \"\"\"Route a user query to the most relevant datasource.\"\"\"\n",
    "\n",
    "    datasource: Literal[*OPTIONS] "
   ]
  },
  {
   "cell_type": "code",
   "execution_count": 19,
   "metadata": {},
   "outputs": [],
   "source": [
    "def supervisor_agent(state: MultiAgentState):\n",
    "    question = state[\"question\"]\n",
    "    document = state[\"documents\"]\n",
    "\n",
    "    system_prompt = (\n",
    "        '''\n",
    "        You are an efficient supervisor responsible for overseeing a conversation between the following agents: {members}. \n",
    "\n",
    "        If you got response from the Agent (response given below as \"Generated Answer from the Agents:\"), respond with 'FINISH' to move on to next step. \n",
    "        \n",
    "        Based on the user's request, decide which agent should respond next. Each agent will complete a task and return their result. \n",
    "        \n",
    "        There are two agents working alongside you:\n",
    "            - Metadata: This agent has all metadata information about that product. \n",
    "            - Review-Vectorstore: This is a FAISS Vectorstore db containing documents related to all the user reviews for that product.\n",
    "        \n",
    "        If you got unsatisfied response from the Agents (Agent Throwing Errors like: \"Metadata: Unable to generate result\") ONLY THEN Call an Agent a **MAXIMUM of TWO TIMES** before responding with 'FINISH'.\n",
    "        Once sufficient information is obtained from the Agents, respond with 'FINISH', after which Alpha, the final assistant, will provide the concluding guidance to the user.\n",
    "        If the query is generic (Hello, How are you, etc) then route it to Alpha and respond with 'FINISH.' \n",
    "\n",
    "        If you got satisfactory response from the Agent (response given above), respond with 'FINISH' to move on to next step. \n",
    "        '''\n",
    "    )\n",
    "\n",
    "    llm = ChatOpenAI(model_name=\"gpt-4o-mini\")\n",
    "    prompt = ChatPromptTemplate.from_messages(\n",
    "        [\n",
    "            (\"system\", system_prompt),\n",
    "            (\"human\", \"{question}\"),\n",
    "            ('system', \"Generated Answer from the Agents: {document}\"),\n",
    "            (\n",
    "                \"system\",\n",
    "                \"Given the conversation above, who should act next?\"\n",
    "                \"Or should we FINISH? Select one of: {options}\",\n",
    "            ),\n",
    "        ]\n",
    "    ).partial(options=str(OPTIONS), members=\", \".join(MEMBERS))\n",
    "\n",
    "\n",
    "    supervisor_chain = prompt | llm.with_structured_output(RouteQuery)\n",
    "    \n",
    "    update_documents = [m for m in document[-5:]] # Delete the previous documents in the memory to save context\n",
    "\n",
    "    return {'question_type' : supervisor_chain.invoke({\"question\": question, 'document': document}), 'question': question, 'documents': update_documents}"
   ]
  },
  {
   "cell_type": "code",
   "execution_count": 20,
   "metadata": {},
   "outputs": [],
   "source": [
    "def route_question(state):\n",
    "    print(\"---ROUTE QUESTION---\")\n",
    "    source = state['question_type']\n",
    "    if source.datasource == \"Metadata\":\n",
    "        print(\"---ROUTE QUESTION TO METADATA---\")\n",
    "        return \"Metadata\"\n",
    "    elif source.datasource == \"Review-Vectorstore\":\n",
    "        print(\"---ROUTE QUESTION TO FAISS---\")\n",
    "        return \"Review-Vectorstore\"\n",
    "    elif source.datasource == \"FINISH\":\n",
    "        print(\"---ROUTE QUESTION TO ALPHA---\")\n",
    "        return \"FINISH\""
   ]
  },
  {
   "cell_type": "code",
   "execution_count": 21,
   "metadata": {},
   "outputs": [],
   "source": [
    "def metadata_node(state: MultiAgentState):\n",
    "    meta_llm = ChatGroq(model_name=\"llama-3.1-8b-instant\")\n",
    "\n",
    "    meta_df = state['meta_data']\n",
    "\n",
    "    modified_details = meta_df['details'].astype(str).str.replace('{', '[')\n",
    "    \n",
    "    # Answer question\n",
    "    meta_system_prompt =( \n",
    "        f'''\n",
    "        You are a great Data Interpreter and Summarizer. Read the Product Meta Data sent to you and Produce it in 500 words.\n",
    "        \n",
    "        Meta Data:\n",
    "        main_category: {(meta_df.at[0,'main_category'])}\n",
    "        title: {(meta_df.at[0, 'title'])}\n",
    "        average_rating: {(meta_df.at[0, 'average_rating'])}\n",
    "        rating_number: {(meta_df.at[0, 'rating_number'])}\n",
    "        features: {(meta_df.at[0, 'features'])}\n",
    "        description: {(meta_df.at[0, 'description'])}\n",
    "        price: {(meta_df.at[0, 'price'])}\n",
    "        store: {(meta_df.at[0, 'store'])}\n",
    "        categories: {(meta_df.at[0, 'categories'])}\t\n",
    "        details: {(modified_details.at[0])}\n",
    "\n",
    "        Return in a proper format:\n",
    "        main_category: Same \n",
    "        title: Same\n",
    "        average_rating: Same\n",
    "        rating_number: Same\n",
    "        features: Summarize\t\n",
    "        description: Summarize\n",
    "        price: Same\n",
    "        store: Same\t\n",
    "        categories: Same\t\n",
    "        details: Same/Summarize where necessary\t\n",
    "\n",
    "        Do not answer any user question, just provide the meta data\n",
    "        '''\n",
    "    )\n",
    "\n",
    "    meta_system_prompt = meta_system_prompt.replace('{', '{{').replace('}', '}}')\n",
    "\n",
    "    meta_qa_prompt = ChatPromptTemplate.from_messages(\n",
    "                    [\n",
    "                        (\"system\", meta_system_prompt),\n",
    "                    ]\n",
    "                )\n",
    "    parser = StrOutputParser()\n",
    "    meta_chain = meta_qa_prompt | meta_llm | parser\n",
    "\n",
    "    try:\n",
    "        # Meta Summary\n",
    "        meta_results = meta_chain.invoke({'input': ''})\n",
    "        meta_results = Document(page_content=meta_results, metadata={\"source\": \"Metadata\"})\n",
    "        \n",
    "    except Exception as error:\n",
    "        print(error)\n",
    "        content = \"Metadata: Unable to generate result\"\n",
    "        meta_results = Document(page_content=content, metadata={\"source\": \"Metadata\"})\n",
    "\n",
    "    return {'documents': [meta_results], \"question\": state[\"question\"]}"
   ]
  },
  {
   "cell_type": "code",
   "execution_count": 22,
   "metadata": {},
   "outputs": [],
   "source": [
    "def retrieve(state: MultiAgentState):\n",
    "    \"\"\"\n",
    "    Retrieve documents\n",
    "\n",
    "    Args:\n",
    "        state (dict): The current graph state\n",
    "\n",
    "    Returns:\n",
    "        state (dict): New key added to state, documents, that contains retrieved documents\n",
    "    \"\"\"\n",
    "    question = state[\"question\"]\n",
    "    retriever = state[\"retriever\"]\n",
    "\n",
    "    # Retrieval\n",
    "    documents = retriever.invoke(question)\n",
    "\n",
    "    return {\"documents\": documents, \"question\": question}"
   ]
  },
  {
   "cell_type": "code",
   "execution_count": 23,
   "metadata": {},
   "outputs": [],
   "source": [
    "def final_llm_node(state: MultiAgentState):\n",
    "    question = state[\"question\"]\n",
    "    documents = state[\"documents\"]\n",
    "\n",
    "    model = ChatGroq(model_name=\"llama-3.1-70b-versatile\")\n",
    "    system_prompt = (\n",
    "        f'''\n",
    "        You are Alpha, a highly knowledgeable and efficient chatbot assistant designed to help users with questions related to products.\n",
    "        Your primary role is to assist users by providing concise, accurate, and insightful responses based on the product information and reviews available to you.\n",
    "        If you don’t have the necessary information to answer the question, simply say that you don’t know.\n",
    "\n",
    "        There are two agents working alongside you:\n",
    "        - Metadata: This agent provides answers related to a product. It has all the information about that product.\n",
    "        - Review-Vectorstore: This is a FAISS Vectorstore db containing documents related to all the user reviews for one product.\n",
    "        \n",
    "        When a User (Shopper) comes to you for help, the question might have first been routed through either the Metadata or the Review-Vectorstore. \n",
    "\n",
    "        Your primary objective is to offer clear, concise, and helpful advice to the teacher, ensuring that they receive the most accurate and useful information to support their shopping needs.\n",
    "\n",
    "        Instructions:\n",
    "        - Analyze the product information and/or reviews provided.\n",
    "        - Provide brief, clear, and helpful answers to user queries about the product.\n",
    "        - Focus on delivering concise and actionable insights to help users make informed decisions.\n",
    "\n",
    "        The responses from those agents are available to you, and if their answers were incomplete or unsatisfactory, you will find this reflected in the context field. \n",
    "        Your job is to analyze their responses, determine if they are adequate, and provide additional guidance or clarification where needed.\n",
    "        Below is the context from one of the agents:\n",
    "        '''\n",
    "        \"{context}\"\n",
    "    )\n",
    "\n",
    "    qa_prompt = ChatPromptTemplate.from_messages(\n",
    "                    [\n",
    "                        (\"system\", system_prompt),\n",
    "                        (\"human\", \"{input}\")\n",
    "                    ]\n",
    "                )\n",
    "    question_answer_chain = qa_prompt | model\n",
    "\n",
    "    generation = question_answer_chain.invoke({\"context\": documents, \"input\": question})\n",
    "\n",
    "    return {\"documents\": documents, \"question\": question, \"answer\": generation}"
   ]
  },
  {
   "cell_type": "code",
   "execution_count": 24,
   "metadata": {},
   "outputs": [],
   "source": [
    "def followup_node(state: MultiAgentState):\n",
    "    documents = state['documents']\n",
    "    question = state['question']\n",
    "    answer = state['answer']\n",
    "    \n",
    "    model = ChatGroq(model_name=\"llama-3.1-8b-instant\")\n",
    "    system_prompt = (\n",
    "        '''\n",
    "        Given the following:\n",
    "        User Question: {question}\n",
    "        Answer: {answer}\n",
    "        Context: {context}\n",
    "        Please generate three possible follow-up questions that the user might ask, each on a new line, without any numbering or bullet points. Do not include any explanations—just list the follow-up questions.\n",
    "        Format them like this:\n",
    "        question1\\nquestion2\\nquestion3\n",
    "        '''\n",
    "    )       \n",
    "    follow_prompt = ChatPromptTemplate.from_messages(\n",
    "                    [\n",
    "                        (\"system\", system_prompt),\n",
    "                    ]\n",
    "                )\n",
    "    \n",
    "    followup_chain = follow_prompt | model\n",
    "    followup = followup_chain.invoke({'question': question, 'answer': answer, 'context': documents[-2:]}) # just consider last two document list \n",
    "    followup_questions = followup.content.split('\\n')\n",
    "    \n",
    "    return {\"question\": question, \"answer\": answer, \"documents\": documents, 'followup_questions': followup_questions}       "
   ]
  },
  {
   "cell_type": "code",
   "execution_count": 25,
   "metadata": {},
   "outputs": [],
   "source": [
    "def create_graph(isMemory=True):\n",
    "    memory = MemorySaver()\n",
    "    builder = StateGraph(MultiAgentState)\n",
    "\n",
    "    builder.add_node(\"Metadata\", metadata_node)\n",
    "    builder.add_node(\"Review-Vectorstore\", retrieve)\n",
    "    builder.add_node(\"supervisor\", supervisor_agent)\n",
    "    builder.add_node(\"generate\", final_llm_node)\n",
    "    builder.add_node(\"final\", followup_node)\n",
    "\n",
    "    for member in MEMBERS:\n",
    "        builder.add_edge(member, \"supervisor\")\n",
    "\n",
    "    builder.add_conditional_edges(\"supervisor\", route_question, CONDITIONAL_MAP)\n",
    "\n",
    "    builder.add_edge(START, \"supervisor\")\n",
    "    builder.add_edge(\"generate\", \"final\")\n",
    "    builder.add_edge(\"final\", END)\n",
    "\n",
    "    graph = builder.compile(checkpointer=memory) if isMemory else builder.compile()\n",
    "\n",
    "    return graph"
   ]
  },
  {
   "cell_type": "code",
   "execution_count": 26,
   "metadata": {},
   "outputs": [],
   "source": [
    "app = create_graph(isMemory=False)"
   ]
  },
  {
   "cell_type": "code",
   "execution_count": 27,
   "metadata": {},
   "outputs": [
    {
     "data": {
      "image/png": "[encoded data removed]",
      "text/plain": [
       "<IPython.core.display.Image object>"
      ]
     },
     "metadata": {},
     "output_type": "display_data"
    }
   ],
   "source": [
    "from IPython.display import Image, display\n",
    "from langchain_core.runnables.graph import MermaidDrawMethod\n",
    "\n",
    "display(\n",
    "    Image(\n",
    "        app.get_graph().draw_mermaid_png(\n",
    "            draw_method=MermaidDrawMethod.API,\n",
    "        )\n",
    "    )\n",
    ")"
   ]
  },
  {
   "cell_type": "code",
   "execution_count": 28,
   "metadata": {},
   "outputs": [
    {
     "name": "stdout",
     "output_type": "stream",
     "text": [
      "---ROUTE QUESTION---\n",
      "---ROUTE QUESTION TO METADATA---\n",
      "---ROUTE QUESTION---\n",
      "---ROUTE QUESTION TO ALPHA---\n",
      "Question:\n",
      "What is the product dimension?\n",
      "Answer:\n",
      "The product dimension of the Easy Playhouse Valentine Cottage is 27.25 x 18.5 x 2.13 inches.\n",
      "Followup-Questions:\n",
      "['Is the Easy Playhouse Valentine Cottage suitable for indoor play only?', 'Can I purchase the Easy Playhouse Valentine Cottage online from Easy Playhouse directly?', 'What are the recommended age limits for the Easy Playhouse Valentine Cottage?']\n"
     ]
    }
   ],
   "source": [
    "config = {\"configurable\": {\"thread_id\": \"1\"}, \"callbacks\": [langfuse_handler]}\n",
    "inputs = {\"question\": \"What is the product dimension?\", \n",
    "          \"meta_data\": meta_df,\n",
    "          \"retriever\": retriever\n",
    "        }\n",
    "for output in app.stream(inputs, config=config):\n",
    "    if 'final' in output:\n",
    "        print(\"Question:\")\n",
    "        print(output['final']['question'])\n",
    "        print(\"Answer:\")\n",
    "        print(output['final']['answer'].content)\n",
    "        print(\"Followup-Questions:\")\n",
    "        print(output['final']['followup_questions'])"
   ]
  },
  {
   "cell_type": "code",
   "execution_count": null,
   "metadata": {},
   "outputs": [],
   "source": []
  }
 ],
 "metadata": {
  "kernelspec": {
   "display_name": "Python 3",
   "language": "python",
   "name": "python3"
  },
  "language_info": {
   "codemirror_mode": {
    "name": "ipython",
    "version": 3
   },
   "file_extension": ".py",
   "mimetype": "text/x-python",
   "name": "python",
   "nbconvert_exporter": "python",
   "pygments_lexer": "ipython3",
   "version": "3.12.7"
  }
 },
 "nbformat": 4,
 "nbformat_minor": 2
}
