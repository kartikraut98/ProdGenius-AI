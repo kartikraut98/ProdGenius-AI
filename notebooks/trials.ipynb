{
 "cells": [
  {
   "cell_type": "code",
   "execution_count": 1,
   "metadata": {},
   "outputs": [],
   "source": [
    "import os\n",
    "os.chdir('../')"
   ]
  },
  {
   "cell_type": "code",
   "execution_count": 3,
   "metadata": {},
   "outputs": [],
   "source": [
    "from src.utils.common import read_yaml\n",
    "from pathlib import Path"
   ]
  },
  {
   "cell_type": "code",
   "execution_count": 4,
   "metadata": {},
   "outputs": [
    {
     "name": "stdout",
     "output_type": "stream",
     "text": [
      "[2024-11-15 17:47:14,568: INFO: common: yaml file: prompts.yaml loaded successfully]\n"
     ]
    }
   ],
   "source": [
    "prompts = read_yaml(Path('prompts.yaml'))"
   ]
  },
  {
   "cell_type": "code",
   "execution_count": 5,
   "metadata": {},
   "outputs": [
    {
     "data": {
      "text/plain": [
       "'You are Alpha, a highly knowledgeable and efficient chatbot assistant designed to help users with questions related to products.\\n  Your primary role is to assist users by providing concise, accurate, and insightful responses based on the product information and reviews available to you.\\n  If you don’t have the necessary information to answer the question, simply say that you don’t know.\\n\\n  There are two agents working alongside you:\\n  - Metadata: This agent provides answers related to a product. It has all the information about that product.\\n  - Review-Vectorstore: This is a FAISS Vectorstore db containing documents related to all the user reviews for one product.\\n  \\n  When a User (Shopper) comes to you for help, the question might have first been routed through either the Metadata or the Review-Vectorstore. \\n\\n  Your primary objective is to offer clear, concise, and helpful advice to the teacher, ensuring that they receive the most accurate and useful information to support their shopping needs.\\n\\n  Instructions:\\n  - Analyze the product information and/or reviews provided.\\n  - Provide brief, clear, and helpful answers to user queries about the product.\\n  - Focus on delivering concise and actionable insights to help users make informed decisions.\\n\\n  The responses from those agents are available to you, and if their answers were incomplete or unsatisfactory, you will find this reflected in the context field. \\n  Your job is to analyze their responses, determine if they are adequate, and provide additional guidance or clarification where needed.\\n  Below is the context from one of the agents:\\n'"
      ]
     },
     "execution_count": 5,
     "metadata": {},
     "output_type": "execute_result"
    }
   ],
   "source": [
    "prompts.BASE_MODEL_PROMPT"
   ]
  },
  {
   "cell_type": "code",
   "execution_count": 1,
   "metadata": {},
   "outputs": [],
   "source": [
    "from datetime import datetime"
   ]
  },
  {
   "cell_type": "code",
   "execution_count": 6,
   "metadata": {},
   "outputs": [
    {
     "data": {
      "text/plain": [
       "datetime.datetime(2024, 11, 16, 1, 55, 56, 510346)"
      ]
     },
     "execution_count": 6,
     "metadata": {},
     "output_type": "execute_result"
    }
   ],
   "source": [
    "datetime.now()"
   ]
  },
  {
   "cell_type": "code",
   "execution_count": 4,
   "metadata": {},
   "outputs": [
    {
     "data": {
      "text/plain": [
       "UUID('8cade5b2-b28a-4ad8-8866-fca488f360f0')"
      ]
     },
     "execution_count": 4,
     "metadata": {},
     "output_type": "execute_result"
    }
   ],
   "source": [
    "import uuid\n",
    "\n",
    "uuid.uuid4()"
   ]
  },
  {
   "cell_type": "code",
   "execution_count": 2,
   "metadata": {},
   "outputs": [],
   "source": [
    "import pandas as pd"
   ]
  },
  {
   "cell_type": "code",
   "execution_count": 3,
   "metadata": {},
   "outputs": [],
   "source": [
    "df = pd.read_parquet('evaluation/results/base-results.parquet')"
   ]
  },
  {
   "cell_type": "code",
   "execution_count": 4,
   "metadata": {},
   "outputs": [
    {
     "data": {
      "text/html": [
       "<div>\n",
       "<style scoped>\n",
       "    .dataframe tbody tr th:only-of-type {\n",
       "        vertical-align: middle;\n",
       "    }\n",
       "\n",
       "    .dataframe tbody tr th {\n",
       "        vertical-align: top;\n",
       "    }\n",
       "\n",
       "    .dataframe thead th {\n",
       "        text-align: right;\n",
       "    }\n",
       "</style>\n",
       "<table border=\"1\" class=\"dataframe\">\n",
       "  <thead>\n",
       "    <tr style=\"text-align: right;\">\n",
       "      <th></th>\n",
       "      <th>question</th>\n",
       "      <th>contexts</th>\n",
       "      <th>ground_truth</th>\n",
       "      <th>evolution_type</th>\n",
       "      <th>parent_asin</th>\n",
       "      <th>file_hash</th>\n",
       "      <th>answer</th>\n",
       "      <th>context_precision</th>\n",
       "      <th>faithfulness</th>\n",
       "      <th>answer_relevancy</th>\n",
       "      <th>context_recall</th>\n",
       "    </tr>\n",
       "  </thead>\n",
       "  <tbody>\n",
       "    <tr>\n",
       "      <th>0</th>\n",
       "      <td>What alternative materials are used for playin...</td>\n",
       "      <td>[I purchased the boards for a game club.  It s...</td>\n",
       "      <td>The alternative materials used for playing the...</td>\n",
       "      <td>simple</td>\n",
       "      <td>B00000JBMZ</td>\n",
       "      <td>19363746-1082-4a64-b440-f1daa95a0112</td>\n",
       "      <td>None</td>\n",
       "      <td>1.0</td>\n",
       "      <td>NaN</td>\n",
       "      <td>0.000000</td>\n",
       "      <td>1.0</td>\n",
       "    </tr>\n",
       "    <tr>\n",
       "      <th>1</th>\n",
       "      <td>What makes it easy for beginner chess players ...</td>\n",
       "      <td>[Perfect for the beginner chess player.  Makes...</td>\n",
       "      <td>The context states that it is perfect for the ...</td>\n",
       "      <td>simple</td>\n",
       "      <td>B00000JBMZ</td>\n",
       "      <td>19363746-1082-4a64-b440-f1daa95a0112</td>\n",
       "      <td>To make it easier for beginner chess players t...</td>\n",
       "      <td>1.0</td>\n",
       "      <td>0.0</td>\n",
       "      <td>0.947676</td>\n",
       "      <td>1.0</td>\n",
       "    </tr>\n",
       "    <tr>\n",
       "      <th>2</th>\n",
       "      <td>What does 'function over form' imply about qua...</td>\n",
       "      <td>[This is one of those thing of function over f...</td>\n",
       "      <td>'Function over form' implies that the function...</td>\n",
       "      <td>reasoning</td>\n",
       "      <td>B00000JBMZ</td>\n",
       "      <td>19363746-1082-4a64-b440-f1daa95a0112</td>\n",
       "      <td>When a product prioritizes \"function over form...</td>\n",
       "      <td>1.0</td>\n",
       "      <td>0.7</td>\n",
       "      <td>0.901864</td>\n",
       "      <td>0.0</td>\n",
       "    </tr>\n",
       "    <tr>\n",
       "      <th>3</th>\n",
       "      <td>What effect does a kink in the rings have on t...</td>\n",
       "      <td>[When I was a kid I had several slinkys and th...</td>\n",
       "      <td>A kink in the rings of a slinky affects its ab...</td>\n",
       "      <td>simple</td>\n",
       "      <td>B00000IZKX</td>\n",
       "      <td>465d5e81-8167-4376-8e89-562759ffdfa6</td>\n",
       "      <td>None</td>\n",
       "      <td>1.0</td>\n",
       "      <td>NaN</td>\n",
       "      <td>0.000000</td>\n",
       "      <td>1.0</td>\n",
       "    </tr>\n",
       "    <tr>\n",
       "      <th>4</th>\n",
       "      <td>What age group is the Original Slinky Walking ...</td>\n",
       "      <td>[**Product Meta Data Summary**\\n\\n**main_categ...</td>\n",
       "      <td>The Original Slinky Walking Spring Toy is suit...</td>\n",
       "      <td>simple</td>\n",
       "      <td>B00000IZKX</td>\n",
       "      <td>465d5e81-8167-4376-8e89-562759ffdfa6</td>\n",
       "      <td>According to the product metadata, the Origina...</td>\n",
       "      <td>1.0</td>\n",
       "      <td>1.0</td>\n",
       "      <td>0.972299</td>\n",
       "      <td>1.0</td>\n",
       "    </tr>\n",
       "  </tbody>\n",
       "</table>\n",
       "</div>"
      ],
      "text/plain": [
       "                                            question  \\\n",
       "0  What alternative materials are used for playin...   \n",
       "1  What makes it easy for beginner chess players ...   \n",
       "2  What does 'function over form' imply about qua...   \n",
       "3  What effect does a kink in the rings have on t...   \n",
       "4  What age group is the Original Slinky Walking ...   \n",
       "\n",
       "                                            contexts  \\\n",
       "0  [I purchased the boards for a game club.  It s...   \n",
       "1  [Perfect for the beginner chess player.  Makes...   \n",
       "2  [This is one of those thing of function over f...   \n",
       "3  [When I was a kid I had several slinkys and th...   \n",
       "4  [**Product Meta Data Summary**\\n\\n**main_categ...   \n",
       "\n",
       "                                        ground_truth evolution_type  \\\n",
       "0  The alternative materials used for playing the...         simple   \n",
       "1  The context states that it is perfect for the ...         simple   \n",
       "2  'Function over form' implies that the function...      reasoning   \n",
       "3  A kink in the rings of a slinky affects its ab...         simple   \n",
       "4  The Original Slinky Walking Spring Toy is suit...         simple   \n",
       "\n",
       "  parent_asin                             file_hash  \\\n",
       "0  B00000JBMZ  19363746-1082-4a64-b440-f1daa95a0112   \n",
       "1  B00000JBMZ  19363746-1082-4a64-b440-f1daa95a0112   \n",
       "2  B00000JBMZ  19363746-1082-4a64-b440-f1daa95a0112   \n",
       "3  B00000IZKX  465d5e81-8167-4376-8e89-562759ffdfa6   \n",
       "4  B00000IZKX  465d5e81-8167-4376-8e89-562759ffdfa6   \n",
       "\n",
       "                                              answer  context_precision  \\\n",
       "0                                               None                1.0   \n",
       "1  To make it easier for beginner chess players t...                1.0   \n",
       "2  When a product prioritizes \"function over form...                1.0   \n",
       "3                                               None                1.0   \n",
       "4  According to the product metadata, the Origina...                1.0   \n",
       "\n",
       "   faithfulness  answer_relevancy  context_recall  \n",
       "0           NaN          0.000000             1.0  \n",
       "1           0.0          0.947676             1.0  \n",
       "2           0.7          0.901864             0.0  \n",
       "3           NaN          0.000000             1.0  \n",
       "4           1.0          0.972299             1.0  "
      ]
     },
     "execution_count": 4,
     "metadata": {},
     "output_type": "execute_result"
    }
   ],
   "source": [
    "df.head()"
   ]
  },
  {
   "cell_type": "code",
   "execution_count": 3,
   "metadata": {},
   "outputs": [],
   "source": [
    "import pymsteams\n"
   ]
  },
  {
   "cell_type": "code",
   "execution_count": 5,
   "metadata": {},
   "outputs": [],
   "source": [
    "from dotenv import load_dotenv\n",
    "\n",
    "_ = load_dotenv()"
   ]
  },
  {
   "cell_type": "code",
   "execution_count": 4,
   "metadata": {},
   "outputs": [
    {
     "data": {
      "text/plain": [
       "True"
      ]
     },
     "execution_count": 4,
     "metadata": {},
     "output_type": "execute_result"
    }
   ],
   "source": [
    "myTeamsMessage = pymsteams.connectorcard(hookurl=os.getenv(\"MS_TEAMS_WEBHOOK_URL\"))\n",
    "myTeamsMessage.text(\"this is my text\")\n",
    "myTeamsMessage.send()"
   ]
  },
  {
   "cell_type": "code",
   "execution_count": null,
   "metadata": {},
   "outputs": [],
   "source": []
  }
 ],
 "metadata": {
  "kernelspec": {
   "display_name": ".venv",
   "language": "python",
   "name": "python3"
  },
  "language_info": {
   "codemirror_mode": {
    "name": "ipython",
    "version": 3
   },
   "file_extension": ".py",
   "mimetype": "text/x-python",
   "name": "python",
   "nbconvert_exporter": "python",
   "pygments_lexer": "ipython3",
   "version": "3.12.7"
  }
 },
 "nbformat": 4,
 "nbformat_minor": 2
}
